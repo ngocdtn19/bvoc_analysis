{
 "cells": [
  {
   "cell_type": "markdown",
   "metadata": {},
   "source": [
    "Load packages and dependencies"
   ]
  },
  {
   "cell_type": "code",
   "execution_count": 1,
   "metadata": {},
   "outputs": [
    {
     "name": "stderr",
     "output_type": "stream",
     "text": [
      "/home/ngoc/anaconda3/envs/bvoc/lib/python3.10/site-packages/regionmask/core/regions.py:9: UserWarning: Shapely 2.0 is installed, but because PyGEOS is also installed, GeoPandas will still use PyGEOS by default for now. To force to use and test Shapely 2.0, you have to set the environment variable USE_PYGEOS=0. You can do this before starting the Python process, or in your code before importing geopandas:\n",
      "\n",
      "import os\n",
      "os.environ['USE_PYGEOS'] = '0'\n",
      "import geopandas\n",
      "\n",
      "In a future release, GeoPandas will switch to using Shapely by default. If you are using PyGEOS directly (calling PyGEOS functions on geometries from GeoPandas), this will then stop working and you are encouraged to migrate from PyGEOS to Shapely 2.0 (https://shapely.readthedocs.io/en/latest/migration_pygeos.html).\n",
      "  import geopandas as gp\n"
     ]
    }
   ],
   "source": [
    "from CMIP6Model import *\n",
    "from plt import *\n",
    "from senAls_main import *\n",
    "from visit_sensitivity_als import *"
   ]
  },
  {
   "cell_type": "markdown",
   "metadata": {},
   "source": [
    "1. Examine global isoprene emissions for the near-present period (2000-2014) and their trends (1850-2014) in historical simulations of CMIP6 models and VISIT-S3 simulation."
   ]
  },
  {
   "cell_type": "code",
   "execution_count": null,
   "metadata": {},
   "outputs": [],
   "source": [
    "emiisop = Var(\"emiisop\")"
   ]
  },
  {
   "cell_type": "code",
   "execution_count": null,
   "metadata": {},
   "outputs": [],
   "source": [
    "# Plot 1a - Mean global isoprene emission for the near present day (2000-2014)\n",
    "plt_mean_glob_pd(emiisop)"
   ]
  },
  {
   "cell_type": "code",
   "execution_count": null,
   "metadata": {},
   "outputs": [],
   "source": [
    "# Plot 1b - Regional contribution for the near present day (2000-2014)\n",
    "plt_regional_contri(emiisop)"
   ]
  },
  {
   "cell_type": "code",
   "execution_count": null,
   "metadata": {},
   "outputs": [],
   "source": [
    "# Plot Fig. 2 - Spatial distribution of the mean annual isoprene emission for the near present day (2000-2014)\n",
    "plt_glob_present_map(emiisop, cmap=\"YlGnBu\")"
   ]
  },
  {
   "cell_type": "code",
   "execution_count": null,
   "metadata": {},
   "outputs": [],
   "source": [
    "# Plot Fig. 3 - Mean annual isoprene emissions by latitude\n",
    "plt_pd_mean_by_lat(emiisop)"
   ]
  },
  {
   "cell_type": "code",
   "execution_count": null,
   "metadata": {},
   "outputs": [],
   "source": [
    "# Plot Fig. 4 - Interannual variations in global isoprene emissions over 1850–2014\n",
    "plt_glob_annual_variation(emiisop)"
   ]
  },
  {
   "cell_type": "code",
   "execution_count": null,
   "metadata": {},
   "outputs": [],
   "source": [
    "# Plot Fig.5 - Spatial distribution of isoprene emission trends from 1850 to 2014\n",
    "plt_emiisop_trends_map(emiisop, cmap=\"bwr\")"
   ]
  },
  {
   "cell_type": "markdown",
   "metadata": {},
   "source": [
    "2. Identify the controlling factors of isoprene emission trends in each CMIP6 and VISIT model."
   ]
  },
  {
   "cell_type": "code",
   "execution_count": 2,
   "metadata": {},
   "outputs": [
    {
     "name": "stdout",
     "output_type": "stream",
     "text": [
      "CESM2-WACCM(G2012)\n",
      "number of samples: 2492155\n",
      "R: PearsonRResult(statistic=0.9996277568780546, pvalue=0.0)\n",
      "   percentage driver\n",
      "0   46.602014  co2fi\n",
      "1   21.534494  lulcc\n",
      "2   31.863492   clim\n",
      "   percentage driver\n",
      "0   46.514796    tas\n",
      "1   33.898322   rsds\n",
      "2   19.586882     pr\n",
      "GFDL-ESM4(G2006)\n",
      "number of samples: 2627500\n",
      "R: PearsonRResult(statistic=0.9998395875498454, pvalue=0.0)\n",
      "   percentage driver\n",
      "0   17.952832  lulcc\n",
      "1   82.047168   clim\n",
      "   percentage driver\n",
      "0   60.128358    tas\n",
      "1   32.492255   rsds\n",
      "2    7.379387     pr\n",
      "GISS-E2.1-G(G1995)\n",
      "number of samples: 2395094\n",
      "R: PearsonRResult(statistic=0.9999169759050217, pvalue=0.0)\n",
      "   percentage driver\n",
      "0   19.202753  lulcc\n",
      "1   80.797247   clim\n",
      "   percentage driver\n",
      "0   71.188390    tas\n",
      "1   25.464971   rsds\n",
      "2    3.346639     pr\n",
      "NorESM2-LM(G2012)\n",
      "number of samples: 2554658\n",
      "R: PearsonRResult(statistic=0.9997268621228044, pvalue=0.0)\n"
     ]
    }
   ],
   "source": [
    "models = {}\n",
    "for m in [\n",
    "    \"CESM2-WACCM(G2012)\",\n",
    "    \"GFDL-ESM4(G2006)\",\n",
    "    \"GISS-E2.1-G(G1995)\",\n",
    "    \"NorESM2-LM(G2012)\",\n",
    "    \"UKESM1-0-LL(P2011)\",\n",
    "]:\n",
    "    print(m)\n",
    "    models[m] = RegSingleModel(m, start_year=1850, end_year=2014)"
   ]
  },
  {
   "cell_type": "code",
   "execution_count": null,
   "metadata": {},
   "outputs": [],
   "source": [
    "visit = VisitSenAls()"
   ]
  },
  {
   "cell_type": "code",
   "execution_count": null,
   "metadata": {},
   "outputs": [],
   "source": [
    "# Plot Fig. 6 - Effects of each driver–CO2, lulcc, climate and the combination of three drivers (all)–on global isoprene emission (1850-2014)\n",
    "plt_glob_changes_by_driver(models, visit, mode=\"main\")\n",
    "# Plot Fig. 8 - Effects of each climate factor–tas, rsds, pr, and total climate factors (clim)–on global isoprene emissions (1850-2014)\n",
    "plt_glob_changes_by_driver(models, visit, mode=\"clim\")"
   ]
  },
  {
   "cell_type": "code",
   "execution_count": null,
   "metadata": {},
   "outputs": [],
   "source": []
  },
  {
   "cell_type": "code",
   "execution_count": null,
   "metadata": {},
   "outputs": [],
   "source": [
    "# Plot Fig. 7 - Attribution of global isoprene emission trends over 1850–2014 due to each driver (co2f/co2fi, lulcc and clim) and the combination of three drivers (all)\n",
    "plt_glob_trends_by_driver(models, visit, mode=\"main\")\n",
    "# Plot Fig. 9 - Attribution of global isoprene emission trends over 1850–2014 due to each climate factor (tas, rsds, pr) and total climate effects (clim)\n",
    "plt_glob_trends_by_driver(models, visit, mode=\"clim\")"
   ]
  },
  {
   "cell_type": "code",
   "execution_count": null,
   "metadata": {},
   "outputs": [],
   "source": [
    "# Plot Fig. 10 - Spatial distribution of the contribution of each factor (CO2, lulcc and climate) to the isoprene emission trends\n",
    "plt_contri_map(models, visit, mode=\"main\")\n",
    "# Plot Fig. 12 - Spatial distribution of the contribution of each climate factor (tas, rsds and pr) to the isoprene emission trends\n",
    "plt_contri_map(models, visit, mode=\"clim\")"
   ]
  },
  {
   "cell_type": "code",
   "execution_count": null,
   "metadata": {},
   "outputs": [],
   "source": [
    "# Plot Fig. 11 - Dominant driver of isoprene emission trends between 1850 and 2014\n",
    "plt_max_impact_map(models, visit, mode=\"main\")\n",
    "# Plot Fig. 13 - Dominant meteorological driver of isoprene emission trends between 1850 and 2014\n",
    "plt_max_impact_map(models, visit, mode=\"clim\")"
   ]
  },
  {
   "cell_type": "code",
   "execution_count": null,
   "metadata": {},
   "outputs": [],
   "source": [
    "# Plot Fig. 14 - The inter-model spreads of isoprene emission trends due to each factor\n",
    "plt_inter_model_spreads(cmap=\"OrRd\")"
   ]
  },
  {
   "cell_type": "markdown",
   "metadata": {},
   "source": [
    "3. Supplementary plot"
   ]
  },
  {
   "cell_type": "code",
   "execution_count": null,
   "metadata": {},
   "outputs": [],
   "source": [
    "# sup plt Fig S1 - Three-fold cross-validation of Random Forest Regression model applied for each CMIP6 model’s data\n",
    "plt_cross_val_metrics()"
   ]
  },
  {
   "cell_type": "code",
   "execution_count": null,
   "metadata": {},
   "outputs": [],
   "source": [
    "# sup plt Fig S2 - Global annual isoprene emission comparison between historical simulation from each CMIP6 model (emiisop) and estimation from its Random Forest Regression model (reg)\n",
    "sup_plt_glob_emiisop_rate(models)"
   ]
  },
  {
   "cell_type": "code",
   "execution_count": null,
   "metadata": {},
   "outputs": [],
   "source": [
    "# sup plt Fig. S3 - SREX regions\n",
    "sup_plt_srex_regions()"
   ]
  },
  {
   "cell_type": "code",
   "execution_count": null,
   "metadata": {},
   "outputs": [],
   "source": [
    "# sup plt Fig. S5 - Global annual anomalies of tas, rsds, pr\n",
    "tas = Var(\"tas\")\n",
    "rsds = Var(\"rsds\")\n",
    "pr = Var(\"pr\")\n",
    "sup_plt_clim_annual_anomaly(tas, rsds, pr)\n",
    "\n",
    "# sup plt Fig. S7 - Spatial distribution of annual trends of clim variables\n",
    "sup_plt_clim_trends_map(tas, rsds, pr)"
   ]
  },
  {
   "cell_type": "code",
   "execution_count": null,
   "metadata": {},
   "outputs": [],
   "source": [
    "# sup plt Fig. S6 - Global mean annual LAI of CESM2-WACM(G2012), NorESM2-LM(G2012), VISIT-S3(G1997) and GPP of UKESM1-0-LL(P2011)\n",
    "lai = Var(\"lai\")\n",
    "gpp = Var(\"gpp\")\n",
    "sup_plt_lai_gpp_corr(lai, gpp)"
   ]
  },
  {
   "cell_type": "code",
   "execution_count": null,
   "metadata": {},
   "outputs": [],
   "source": [
    "# sup plt Fig. S4 - Global and regional annual change of land use/land cover over 1850-2014\n",
    "sup_plt_land_changes()"
   ]
  },
  {
   "cell_type": "code",
   "execution_count": null,
   "metadata": {},
   "outputs": [],
   "source": [
    "# sup plt Fig. S8 - Spatial distribution of mean annual fraction (%) of four PFTs over 2000-2014\n",
    "sup_plt_land_map()"
   ]
  }
 ],
 "metadata": {
  "kernelspec": {
   "display_name": "bvoc",
   "language": "python",
   "name": "python3"
  },
  "language_info": {
   "codemirror_mode": {
    "name": "ipython",
    "version": 3
   },
   "file_extension": ".py",
   "mimetype": "text/x-python",
   "name": "python",
   "nbconvert_exporter": "python",
   "pygments_lexer": "ipython3",
   "version": "3.10.4"
  }
 },
 "nbformat": 4,
 "nbformat_minor": 2
}
